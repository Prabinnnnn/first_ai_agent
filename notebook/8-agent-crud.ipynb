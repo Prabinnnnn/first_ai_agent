{
 "cells": [
  {
   "cell_type": "code",
   "execution_count": 1,
   "id": "9fb3b8de",
   "metadata": {},
   "outputs": [],
   "source": [
    "import setup\n",
    "setup.init()"
   ]
  },
  {
   "cell_type": "code",
   "execution_count": 2,
   "id": "a7ed1b58",
   "metadata": {},
   "outputs": [],
   "source": [
    "from ai.agents import get_document_agent"
   ]
  },
  {
   "cell_type": "code",
   "execution_count": 3,
   "id": "9ff5faf0",
   "metadata": {},
   "outputs": [],
   "source": [
    "from langgraph.checkpoint.memory import InMemorySaver\n",
    "checkpointer = InMemorySaver()"
   ]
  },
  {
   "cell_type": "code",
   "execution_count": 4,
   "id": "c7b22ac1",
   "metadata": {},
   "outputs": [],
   "source": [
    "agent = get_document_agent(model=\"gpt-4o\", checkpointer=checkpointer)"
   ]
  },
  {
   "cell_type": "code",
   "execution_count": 5,
   "id": "00c874e3",
   "metadata": {},
   "outputs": [],
   "source": [
    "import uuid\n",
    "config = {\"configurable\": {\"user_id\": \"2\", \"thread_id\":uuid.uuid4()}}\n",
    "response = agent.invoke(\n",
    "    {\"message\":\n",
    "     [\n",
    "         {\"role\":\"user\", \"content\": \"what are my recent documents\"}\n",
    "     ]\n",
    "\n",
    "    },\n",
    "    config\n",
    ")"
   ]
  },
  {
   "cell_type": "code",
   "execution_count": 6,
   "id": "2d477008",
   "metadata": {},
   "outputs": [
    {
     "data": {
      "text/plain": [
       "'The document titled \"Mission Impossible Summary\" has been successfully updated to \"MI summary.\" If you need any further assistance, feel free to ask!'"
      ]
     },
     "execution_count": 6,
     "metadata": {},
     "output_type": "execute_result"
    }
   ],
   "source": [
    "response = agent.invoke(\n",
    "    {\"messages\":\n",
    "     [\n",
    "         {\"role\": \"user\", \"content\": \"update the mission impossible document title to MI summary \"}\n",
    "     ]\n",
    "    },\n",
    "    config\n",
    ")\n",
    "response['messages'][-1].content"
   ]
  },
  {
   "cell_type": "code",
   "execution_count": 7,
   "id": "0f464730",
   "metadata": {},
   "outputs": [
    {
     "data": {
      "text/plain": [
       "'\"Mission: Impossible\" is a 1996 action spy film directed by Brian De Palma, based on the television series of the same name. The film follows Ethan Hunt, played by Tom Cruise, a secret agent who is framed for the murder of his team during a mission gone wrong. \\n\\nAs the story unfolds, Hunt discovers that a mole within the Impossible Mission Force (IMF) has betrayed his team, leading to their deaths and the theft of a list containing the identities of undercover agents. To clear his name and retrieve the list, Hunt assembles a new team of operatives, including Luther Stickell, played by Ving Rhames, and Franz Krieger, played by Jean Reno.\\n\\nThe film is known for its intense action sequences, including the iconic scene where Hunt descends into a high-security vault. The plot is filled with twists and turns, leading to a climactic confrontation with the true traitor. Ultimately, Hunt succeeds in his mission, but not without facing numerous challenges and moral dilemmas along the way.\\n\\n\"Mission: Impossible\" was well-received by audiences and critics alike, leading to a successful franchise with multiple sequels. The film is celebrated for its thrilling action, clever plot, and Tom Cruise\\'s performance.'"
      ]
     },
     "execution_count": 7,
     "metadata": {},
     "output_type": "execute_result"
    }
   ],
   "source": [
    "response = agent.invoke(\n",
    "    {\"messages\":\n",
    "     [\n",
    "         {\"role\": \"user\", \"content\": \"give me a summary of the movie mission impossible\"}\n",
    "     ]\n",
    "    },\n",
    "    config\n",
    ")\n",
    "response['messages'][-1].content"
   ]
  },
  {
   "cell_type": "code",
   "execution_count": 8,
   "id": "7c35c1cc",
   "metadata": {},
   "outputs": [
    {
     "data": {
      "text/plain": [
       "'The summary of \"Mission Impossible\" has been successfully saved to your documents with the title \"Mission Impossible Summary.\" If you need anything else, feel free to ask!'"
      ]
     },
     "execution_count": 8,
     "metadata": {},
     "output_type": "execute_result"
    }
   ],
   "source": [
    "response = agent.invoke(\n",
    "    {\"messages\":\n",
    "     [\n",
    "         {\"role\": \"user\", \"content\": \"greate, now save it to my documents\"}\n",
    "     ]\n",
    "    },\n",
    "    config\n",
    ")\n",
    "response['messages'][-1].content"
   ]
  },
  {
   "cell_type": "code",
   "execution_count": 9,
   "id": "e4988126",
   "metadata": {},
   "outputs": [
    {
     "data": {
      "text/plain": [
       "'Here are your most recent documents:\\n\\n1. **Mission Impossible Summary** (ID: 5)\\n2. **Title** (ID: 4)\\n3. **Title** (ID: 3)\\n4. **hello world** (ID: 2)\\n\\nIf you need more information or assistance with any of these documents, just let me know!'"
      ]
     },
     "execution_count": 9,
     "metadata": {},
     "output_type": "execute_result"
    }
   ],
   "source": [
    "response = agent.invoke(\n",
    "    {\"messages\":\n",
    "     [\n",
    "         {\"role\": \"user\", \"content\": \"what are my recent documents\"}\n",
    "     ]\n",
    "    },\n",
    "    config\n",
    ")\n",
    "response['messages'][-1].content"
   ]
  },
  {
   "cell_type": "code",
   "execution_count": null,
   "id": "93e8c3d0",
   "metadata": {},
   "outputs": [],
   "source": []
  }
 ],
 "metadata": {
  "kernelspec": {
   "display_name": "venv",
   "language": "python",
   "name": "python3"
  },
  "language_info": {
   "codemirror_mode": {
    "name": "ipython",
    "version": 3
   },
   "file_extension": ".py",
   "mimetype": "text/x-python",
   "name": "python",
   "nbconvert_exporter": "python",
   "pygments_lexer": "ipython3",
   "version": "3.13.0"
  }
 },
 "nbformat": 4,
 "nbformat_minor": 5
}
