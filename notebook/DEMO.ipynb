{
 "cells": [
  {
   "cell_type": "code",
   "execution_count": 1,
   "metadata": {},
   "outputs": [],
   "source": [
    "import setup  # notebooks/setup.py\n",
    "setup.init()"
   ]
  },
  {
   "cell_type": "code",
   "execution_count": 2,
   "metadata": {},
   "outputs": [],
   "source": [
    "from ai.supervisors import get_supervisor\n",
    "from django.contrib.auth import get_user_model\n",
    "from langgraph.checkpoint.memory import InMemorySaver "
   ]
  },
  {
   "cell_type": "code",
   "execution_count": 3,
   "metadata": {},
   "outputs": [
    {
     "data": {
      "text/plain": [
       "<User: staff>"
      ]
     },
     "execution_count": 3,
     "metadata": {},
     "output_type": "execute_result"
    }
   ],
   "source": [
    "User = get_user_model()\n",
    "user_a = User.objects.get(id=2)\n",
    "user_a"
   ]
  },
  {
   "cell_type": "code",
   "execution_count": 4,
   "metadata": {},
   "outputs": [],
   "source": [
    "checkpointer = InMemorySaver()\n",
    "supervisor = get_supervisor(model=\"gpt-4o\", checkpointer=checkpointer)"
   ]
  },
  {
   "cell_type": "code",
   "execution_count": 5,
   "metadata": {},
   "outputs": [],
   "source": [
    "import uuid \n",
    "config = {\"configurable\": {\"user_id\": f\"{user_a.id}\", \"thread_id\": uuid.uuid4()}}"
   ]
  },
  {
   "cell_type": "code",
   "execution_count": 9,
   "metadata": {},
   "outputs": [
    {
     "name": "stdout",
     "output_type": "stream",
     "text": [
      "Searching with user 2\n"
     ]
    }
   ],
   "source": [
    "response = supervisor.invoke(\n",
    "    {\"messages\": \n",
    "        [\n",
    "            {\"role\": \"user\", \"content\": \"What is the most recent Lord of the Rings movie?\"}\n",
    "        ]\n",
    "    },\n",
    "    config\n",
    ")"
   ]
  },
  {
   "cell_type": "code",
   "execution_count": 10,
   "metadata": {},
   "outputs": [
    {
     "data": {
      "text/markdown": [
       "The most recent \"Lord of the Rings\" movie is **\"The Lord of the Rings: The War of the Rohirrim,\"** which is set to be released on **December 5, 2024**. If you need more information or details about the previous movies, feel free to ask!"
      ],
      "text/plain": [
       "<IPython.core.display.Markdown object>"
      ]
     },
     "metadata": {},
     "output_type": "display_data"
    }
   ],
   "source": [
    "from IPython.display import display, Markdown\n",
    "display(Markdown(response['messages'][-1].content))"
   ]
  },
  {
   "cell_type": "code",
   "execution_count": 11,
   "metadata": {},
   "outputs": [],
   "source": [
    "\n",
    "response = supervisor.invoke(\n",
    "    {\"messages\": \n",
    "        [\n",
    "            {\"role\": \"user\", \"content\": \"Save that movie as a new document\"}\n",
    "        ]\n",
    "    },\n",
    "    config\n",
    ")"
   ]
  },
  {
   "cell_type": "code",
   "execution_count": 12,
   "metadata": {},
   "outputs": [
    {
     "data": {
      "text/markdown": [
       "It seems there was an issue with saving the movie as a new document. If you have any other requests or need assistance, please let me know!"
      ],
      "text/plain": [
       "<IPython.core.display.Markdown object>"
      ]
     },
     "metadata": {},
     "output_type": "display_data"
    }
   ],
   "source": [
    "from IPython.display import display, Markdown\n",
    "display(Markdown(response['messages'][-1].content))"
   ]
  },
  {
   "cell_type": "code",
   "execution_count": 13,
   "metadata": {},
   "outputs": [],
   "source": [
    "response = supervisor.invoke(\n",
    "    {\"messages\": \n",
    "        [\n",
    "            {\"role\": \"user\", \"content\": \"I've updated permissions. Try to save it again.\"}\n",
    "        ]\n",
    "    },\n",
    "    config\n",
    ")"
   ]
  },
  {
   "cell_type": "code",
   "execution_count": 14,
   "metadata": {},
   "outputs": [
    {
     "data": {
      "text/markdown": [
       "The movie **\"The Lord of the Rings: The War of the Rohirrim\"** has been successfully saved as a new document. If you need anything else, feel free to ask!"
      ],
      "text/plain": [
       "<IPython.core.display.Markdown object>"
      ]
     },
     "metadata": {},
     "output_type": "display_data"
    }
   ],
   "source": [
    "from IPython.display import display, Markdown\n",
    "display(Markdown(response['messages'][-1].content))"
   ]
  },
  {
   "cell_type": "code",
   "execution_count": 15,
   "metadata": {},
   "outputs": [],
   "source": [
    "response = supervisor.invoke(\n",
    "    {\"messages\": \n",
    "        [\n",
    "            {\"role\": \"user\", \"content\": \"It is not called Mission: Impossible - Dead Reckoning not Mission: Impossible - Dead Reckoning Part One they changed it. Update the correct document to reflect that\"}\n",
    "        ]\n",
    "    },\n",
    "    config\n",
    ")"
   ]
  },
  {
   "cell_type": "code",
   "execution_count": 16,
   "metadata": {},
   "outputs": [
    {
     "data": {
      "text/markdown": [
       "The document has been successfully updated to reflect the correct title: **\"Mission: Impossible - Dead Reckoning.\"** If you need any further assistance or have more updates, feel free to let me know!"
      ],
      "text/plain": [
       "<IPython.core.display.Markdown object>"
      ]
     },
     "metadata": {},
     "output_type": "display_data"
    }
   ],
   "source": [
    "from IPython.display import display, Markdown\n",
    "display(Markdown(response['messages'][-1].content))"
   ]
  },
  {
   "cell_type": "code",
   "execution_count": 14,
   "metadata": {},
   "outputs": [],
   "source": [
    "# response = supervisor.invoke(\n",
    "#     {\"messages\": \n",
    "#         [\n",
    "#             {\"role\": \"user\", \"content\": \"Hey you made too many delete the extra documents\"}\n",
    "#         ]\n",
    "#     },\n",
    "#     config\n",
    "# )"
   ]
  },
  {
   "cell_type": "code",
   "execution_count": null,
   "metadata": {},
   "outputs": [],
   "source": [
    "from IPython.display import display, Markdown\n",
    "display(Markdown(response['messages'][-1].content))"
   ]
  },
  {
   "cell_type": "code",
   "execution_count": 17,
   "metadata": {},
   "outputs": [
    {
     "name": "stdout",
     "output_type": "stream",
     "text": [
      "content='What is the most recent Mission Impossible movie?' additional_kwargs={} response_metadata={} id='41604c00-f754-4099-9e73-0c88a6c928d6'\n",
      "content='' additional_kwargs={'tool_calls': [{'id': 'call_tOdGB9oQwQ7AKBRkECV1U4L0', 'function': {'arguments': '{}', 'name': 'transfer_to_movie-discovery-assistant'}, 'type': 'function'}], 'refusal': None} response_metadata={'token_usage': {'completion_tokens': 15, 'prompt_tokens': 95, 'total_tokens': 110, 'completion_tokens_details': {'accepted_prediction_tokens': 0, 'audio_tokens': 0, 'reasoning_tokens': 0, 'rejected_prediction_tokens': 0}, 'prompt_tokens_details': {'audio_tokens': 0, 'cached_tokens': 0}}, 'model_name': 'gpt-4o-2024-08-06', 'system_fingerprint': 'fp_07871e2ad8', 'id': 'chatcmpl-BenwJPw2B0tEqWg8GOJRQD7byswNN', 'service_tier': 'default', 'finish_reason': 'tool_calls', 'logprobs': None} name='supervisor' id='run--34978ace-8eee-48ce-b2eb-c7e574f07f11-0' tool_calls=[{'name': 'transfer_to_movie-discovery-assistant', 'args': {}, 'id': 'call_tOdGB9oQwQ7AKBRkECV1U4L0', 'type': 'tool_call'}] usage_metadata={'input_tokens': 95, 'output_tokens': 15, 'total_tokens': 110, 'input_token_details': {'audio': 0, 'cache_read': 0}, 'output_token_details': {'audio': 0, 'reasoning': 0}}\n",
      "content='Successfully transferred to movie-discovery-assistant' name='transfer_to_movie-discovery-assistant' id='463b395a-9c6e-4fbf-b3e2-3bfb59ca54a4' tool_call_id='call_tOdGB9oQwQ7AKBRkECV1U4L0'\n",
      "content='The most recent \"Mission: Impossible\" movie is **\"Mission: Impossible - Dead Reckoning Part One,\"** which was released on **July 8, 2023**. \\n\\n### Overview:\\nEthan Hunt and his IMF team embark on their most dangerous mission yet: to track down a terrifying new weapon that threatens all of humanity before it falls into the wrong hands. With control of the future and the world\\'s fate at stake, a deadly race around the globe begins.\\n\\n### Details:\\n- **Release Date:** July 8, 2023\\n- **Rating:** 7.5/10\\n- **Genres:** Action, Adventure, Thriller\\n- **Poster:**\\n![Mission: Impossible - Dead Reckoning Part One](https://image.tmdb.org/t/p/w500/NNxYkU70HPurnNCSiCjYAmacwm.jpg)\\n\\nIf you need more information or details about the next movie in the series, let me know!' additional_kwargs={'refusal': None} response_metadata={'token_usage': {'completion_tokens': 199, 'prompt_tokens': 1352, 'total_tokens': 1551, 'completion_tokens_details': {'accepted_prediction_tokens': 0, 'audio_tokens': 0, 'reasoning_tokens': 0, 'rejected_prediction_tokens': 0}, 'prompt_tokens_details': {'audio_tokens': 0, 'cached_tokens': 0}}, 'model_name': 'gpt-4o-mini-2024-07-18', 'system_fingerprint': 'fp_34a54ae93c', 'id': 'chatcmpl-BenwLWpSUVmf1wy7W3Oo3kVAunkoe', 'service_tier': 'default', 'finish_reason': 'stop', 'logprobs': None} name='movie-discovery-assistant' id='run--48f80de3-3725-43e9-8c84-e0a9f81ff714-0' usage_metadata={'input_tokens': 1352, 'output_tokens': 199, 'total_tokens': 1551, 'input_token_details': {'audio': 0, 'cache_read': 0}, 'output_token_details': {'audio': 0, 'reasoning': 0}}\n",
      "content='Transferring back to supervisor' additional_kwargs={} response_metadata={'__is_handoff_back': True} name='movie-discovery-assistant' id='a2c969a9-da4a-4fb6-89a5-d77e9600adf3' tool_calls=[{'name': 'transfer_back_to_supervisor', 'args': {}, 'id': '5b4f8059-4ff2-476c-b4a2-bd585f8151f5', 'type': 'tool_call'}]\n",
      "content='Successfully transferred back to supervisor' name='transfer_back_to_supervisor' id='ab4a7b67-5173-4979-8590-d6f23fabbbf4' tool_call_id='5b4f8059-4ff2-476c-b4a2-bd585f8151f5'\n",
      "content='The most recent \"Mission: Impossible\" movie is **\"Mission: Impossible - Dead Reckoning Part One,\"** which was released on **July 8, 2023**. If you need more information or details about the next movie in the series, feel free to ask!' additional_kwargs={'refusal': None} response_metadata={'token_usage': {'completion_tokens': 58, 'prompt_tokens': 393, 'total_tokens': 451, 'completion_tokens_details': {'accepted_prediction_tokens': 0, 'audio_tokens': 0, 'reasoning_tokens': 0, 'rejected_prediction_tokens': 0}, 'prompt_tokens_details': {'audio_tokens': 0, 'cached_tokens': 0}}, 'model_name': 'gpt-4o-2024-08-06', 'system_fingerprint': 'fp_07871e2ad8', 'id': 'chatcmpl-BenwRPVELCIS1wdVTC8hwvo2e4pUy', 'service_tier': 'default', 'finish_reason': 'stop', 'logprobs': None} name='supervisor' id='run--33d4f3d3-4e56-4148-9f69-ef131d050071-0' usage_metadata={'input_tokens': 393, 'output_tokens': 58, 'total_tokens': 451, 'input_token_details': {'audio': 0, 'cache_read': 0}, 'output_token_details': {'audio': 0, 'reasoning': 0}}\n",
      "content='Save that movie as a new document' additional_kwargs={} response_metadata={} id='520000bc-3a1f-408b-b7a3-1181a988423d'\n",
      "content='' additional_kwargs={'tool_calls': [{'id': 'call_IzfObn6w6KLzxQKFcbyMYeWm', 'function': {'arguments': '{}', 'name': 'transfer_to_document-assistant'}, 'type': 'function'}], 'refusal': None} response_metadata={'token_usage': {'completion_tokens': 13, 'prompt_tokens': 468, 'total_tokens': 481, 'completion_tokens_details': {'accepted_prediction_tokens': 0, 'audio_tokens': 0, 'reasoning_tokens': 0, 'rejected_prediction_tokens': 0}, 'prompt_tokens_details': {'audio_tokens': 0, 'cached_tokens': 0}}, 'model_name': 'gpt-4o-2024-08-06', 'system_fingerprint': 'fp_07871e2ad8', 'id': 'chatcmpl-BenyPqGUs9V3JrzYj7NYZhFK9KYrF', 'service_tier': 'default', 'finish_reason': 'tool_calls', 'logprobs': None} name='supervisor' id='run--a835317a-336d-443a-9b04-c4951e1e42a5-0' tool_calls=[{'name': 'transfer_to_document-assistant', 'args': {}, 'id': 'call_IzfObn6w6KLzxQKFcbyMYeWm', 'type': 'tool_call'}] usage_metadata={'input_tokens': 468, 'output_tokens': 13, 'total_tokens': 481, 'input_token_details': {'audio': 0, 'cache_read': 0}, 'output_token_details': {'audio': 0, 'reasoning': 0}}\n",
      "content='Successfully transferred to document-assistant' name='transfer_to_document-assistant' id='cc1cce98-54c3-4662-a75e-317343dca8b2' tool_call_id='call_IzfObn6w6KLzxQKFcbyMYeWm'\n",
      "content='The movie **\"Mission: Impossible - Dead Reckoning Part One\"** has been saved as a new document. If you need anything else, feel free to ask!' additional_kwargs={'refusal': None} response_metadata={'token_usage': {'completion_tokens': 35, 'prompt_tokens': 1072, 'total_tokens': 1107, 'completion_tokens_details': {'accepted_prediction_tokens': 0, 'audio_tokens': 0, 'reasoning_tokens': 0, 'rejected_prediction_tokens': 0}, 'prompt_tokens_details': {'audio_tokens': 0, 'cached_tokens': 0}}, 'model_name': 'gpt-4o-mini-2024-07-18', 'system_fingerprint': 'fp_34a54ae93c', 'id': 'chatcmpl-BenyVRmTF1fOffraK97Ognt2hiehb', 'service_tier': 'default', 'finish_reason': 'stop', 'logprobs': None} name='document-assistant' id='run--8506ce63-6a7d-4a35-92fa-c018463d7136-0' usage_metadata={'input_tokens': 1072, 'output_tokens': 35, 'total_tokens': 1107, 'input_token_details': {'audio': 0, 'cache_read': 0}, 'output_token_details': {'audio': 0, 'reasoning': 0}}\n",
      "content='Transferring back to supervisor' additional_kwargs={} response_metadata={'__is_handoff_back': True} name='document-assistant' id='5e49f391-53a3-4ec9-9bdf-8bf57f58bd2c' tool_calls=[{'name': 'transfer_back_to_supervisor', 'args': {}, 'id': 'c036bbea-4e88-4f2b-80ff-a6503c64ebbd', 'type': 'tool_call'}]\n",
      "content='Successfully transferred back to supervisor' name='transfer_back_to_supervisor' id='eda1c176-9234-4046-b3b5-f88986190afa' tool_call_id='c036bbea-4e88-4f2b-80ff-a6503c64ebbd'\n",
      "content='The movie **\"Mission: Impossible - Dead Reckoning Part One\"** has been saved as a new document. If you need anything else, feel free to ask!' additional_kwargs={'refusal': None} response_metadata={'token_usage': {'completion_tokens': 35, 'prompt_tokens': 590, 'total_tokens': 625, 'completion_tokens_details': {'accepted_prediction_tokens': 0, 'audio_tokens': 0, 'reasoning_tokens': 0, 'rejected_prediction_tokens': 0}, 'prompt_tokens_details': {'audio_tokens': 0, 'cached_tokens': 0}}, 'model_name': 'gpt-4o-2024-08-06', 'system_fingerprint': 'fp_07871e2ad8', 'id': 'chatcmpl-BenyWM8XFMZh1nwjpohMVQp54FANr', 'service_tier': 'default', 'finish_reason': 'stop', 'logprobs': None} name='supervisor' id='run--342b7648-d8e0-4c25-8cbe-e0f185f3844b-0' usage_metadata={'input_tokens': 590, 'output_tokens': 35, 'total_tokens': 625, 'input_token_details': {'audio': 0, 'cache_read': 0}, 'output_token_details': {'audio': 0, 'reasoning': 0}}\n",
      "content='What is the most recent Lord of the Rings movie?' additional_kwargs={} response_metadata={} id='2bdc8aa7-1b55-4492-a5d9-ade149f3f6b1'\n",
      "content='' additional_kwargs={'tool_calls': [{'id': 'call_Lll70ICsiVDEoUtTxUlj3BZY', 'function': {'arguments': '{}', 'name': 'transfer_to_movie-discovery-assistant'}, 'type': 'function'}], 'refusal': None} response_metadata={'token_usage': {'completion_tokens': 15, 'prompt_tokens': 646, 'total_tokens': 661, 'completion_tokens_details': {'accepted_prediction_tokens': 0, 'audio_tokens': 0, 'reasoning_tokens': 0, 'rejected_prediction_tokens': 0}, 'prompt_tokens_details': {'audio_tokens': 0, 'cached_tokens': 0}}, 'model_name': 'gpt-4o-2024-08-06', 'system_fingerprint': 'fp_07871e2ad8', 'id': 'chatcmpl-BenzVMFCN1J6JOTZsaKZwU7buKNn9', 'service_tier': 'default', 'finish_reason': 'tool_calls', 'logprobs': None} name='supervisor' id='run--9a07baff-9da0-40de-b496-a2ee947c6203-0' tool_calls=[{'name': 'transfer_to_movie-discovery-assistant', 'args': {}, 'id': 'call_Lll70ICsiVDEoUtTxUlj3BZY', 'type': 'tool_call'}] usage_metadata={'input_tokens': 646, 'output_tokens': 15, 'total_tokens': 661, 'input_token_details': {'audio': 0, 'cache_read': 0}, 'output_token_details': {'audio': 0, 'reasoning': 0}}\n",
      "content='Successfully transferred to movie-discovery-assistant' name='transfer_to_movie-discovery-assistant' id='b819380c-ff8b-459d-908a-52a43cd13728' tool_call_id='call_Lll70ICsiVDEoUtTxUlj3BZY'\n",
      "content='The most recent \"Lord of the Rings\" movie is **\"The Lord of the Rings: The War of the Rohirrim,\"** which is set to be released on **December 5, 2024**.\\n\\n### Overview:\\nThe film tells the story of Helm Hammerhand, the King of Rohan, who faces a sudden attack by Wulf, a clever and traitorous lord seeking vengeance for the death of his father. The people of Rohan must make a daring last stand in the ancient stronghold of the Hornburg.\\n\\n### Details:\\n- **Release Date:** December 5, 2024\\n- **Genres:** Animation, Fantasy, Adventure\\n- **Poster:**\\n![The Lord of the Rings: The War of the Rohirrim](https://image.tmdb.org/t/p/w500/cXzCOx1hUuU9CfmiEv6rXjb6EqU.jpg)\\n\\nIf you need more information or details about the previous movies, let me know!' additional_kwargs={'refusal': None} response_metadata={'token_usage': {'completion_tokens': 205, 'prompt_tokens': 1985, 'total_tokens': 2190, 'completion_tokens_details': {'accepted_prediction_tokens': 0, 'audio_tokens': 0, 'reasoning_tokens': 0, 'rejected_prediction_tokens': 0}, 'prompt_tokens_details': {'audio_tokens': 0, 'cached_tokens': 0}}, 'model_name': 'gpt-4o-mini-2024-07-18', 'system_fingerprint': 'fp_34a54ae93c', 'id': 'chatcmpl-BenzYWVrgOvmOyCDAGXMM6sh9GKYT', 'service_tier': 'default', 'finish_reason': 'stop', 'logprobs': None} name='movie-discovery-assistant' id='run--5b0dedc3-d2f7-415d-af2a-0883723ce5bf-0' usage_metadata={'input_tokens': 1985, 'output_tokens': 205, 'total_tokens': 2190, 'input_token_details': {'audio': 0, 'cache_read': 0}, 'output_token_details': {'audio': 0, 'reasoning': 0}}\n",
      "content='Transferring back to supervisor' additional_kwargs={} response_metadata={'__is_handoff_back': True} name='movie-discovery-assistant' id='fcf64c3f-33c0-40ac-b9a3-cbe511b2d75e' tool_calls=[{'name': 'transfer_back_to_supervisor', 'args': {}, 'id': 'e0f230c3-8d2e-4357-a638-c66acd7f8e9a', 'type': 'tool_call'}]\n",
      "content='Successfully transferred back to supervisor' name='transfer_back_to_supervisor' id='3a3014c3-e10c-4930-a8b9-22e006e63c1f' tool_call_id='e0f230c3-8d2e-4357-a638-c66acd7f8e9a'\n",
      "content='The most recent \"Lord of the Rings\" movie is **\"The Lord of the Rings: The War of the Rohirrim,\"** which is set to be released on **December 5, 2024**. If you need more information or details about the previous movies, feel free to ask!' additional_kwargs={'refusal': None} response_metadata={'token_usage': {'completion_tokens': 63, 'prompt_tokens': 950, 'total_tokens': 1013, 'completion_tokens_details': {'accepted_prediction_tokens': 0, 'audio_tokens': 0, 'reasoning_tokens': 0, 'rejected_prediction_tokens': 0}, 'prompt_tokens_details': {'audio_tokens': 0, 'cached_tokens': 0}}, 'model_name': 'gpt-4o-2024-08-06', 'system_fingerprint': 'fp_07871e2ad8', 'id': 'chatcmpl-Benzb0mbb4gkmuHXOOM3E6KU6OwEQ', 'service_tier': 'default', 'finish_reason': 'stop', 'logprobs': None} name='supervisor' id='run--14d37f0d-99d3-4951-9be8-de774dda5207-0' usage_metadata={'input_tokens': 950, 'output_tokens': 63, 'total_tokens': 1013, 'input_token_details': {'audio': 0, 'cache_read': 0}, 'output_token_details': {'audio': 0, 'reasoning': 0}}\n",
      "content='Save that movie as a new document' additional_kwargs={} response_metadata={} id='c7aae495-729b-48b0-bda5-77f15b1265ff'\n",
      "content='' additional_kwargs={'tool_calls': [{'id': 'call_epDEtDegbDAOCwNvOfiovYPE', 'function': {'arguments': '{}', 'name': 'transfer_to_document-assistant'}, 'type': 'function'}], 'refusal': None} response_metadata={'token_usage': {'completion_tokens': 13, 'prompt_tokens': 1030, 'total_tokens': 1043, 'completion_tokens_details': {'accepted_prediction_tokens': 0, 'audio_tokens': 0, 'reasoning_tokens': 0, 'rejected_prediction_tokens': 0}, 'prompt_tokens_details': {'audio_tokens': 0, 'cached_tokens': 0}}, 'model_name': 'gpt-4o-2024-08-06', 'system_fingerprint': 'fp_07871e2ad8', 'id': 'chatcmpl-BenzuBEFMctft2Te8suUbULkY0B4x', 'service_tier': 'default', 'finish_reason': 'tool_calls', 'logprobs': None} name='supervisor' id='run--51b39572-2245-46c2-9620-a0028a0dd275-0' tool_calls=[{'name': 'transfer_to_document-assistant', 'args': {}, 'id': 'call_epDEtDegbDAOCwNvOfiovYPE', 'type': 'tool_call'}] usage_metadata={'input_tokens': 1030, 'output_tokens': 13, 'total_tokens': 1043, 'input_token_details': {'audio': 0, 'cache_read': 0}, 'output_token_details': {'audio': 0, 'reasoning': 0}}\n",
      "content='Successfully transferred to document-assistant' name='transfer_to_document-assistant' id='9234efec-9ac7-49ec-9837-adfcc48d3bc8' tool_call_id='call_epDEtDegbDAOCwNvOfiovYPE'\n",
      "content=\"It seems that I don't have permission to create individual documents at the moment. However, I can help you with other tasks or provide information. If you have any other requests or need assistance, please let me know!\" additional_kwargs={'refusal': None} response_metadata={'token_usage': {'completion_tokens': 44, 'prompt_tokens': 1416, 'total_tokens': 1460, 'completion_tokens_details': {'accepted_prediction_tokens': 0, 'audio_tokens': 0, 'reasoning_tokens': 0, 'rejected_prediction_tokens': 0}, 'prompt_tokens_details': {'audio_tokens': 0, 'cached_tokens': 0}}, 'model_name': 'gpt-4o-mini-2024-07-18', 'system_fingerprint': 'fp_34a54ae93c', 'id': 'chatcmpl-Beo02THy0FcBDSnbDE5d9nNmRXmuz', 'service_tier': 'default', 'finish_reason': 'stop', 'logprobs': None} name='document-assistant' id='run--ad4db545-c601-42ea-a758-b2ab72d83150-0' usage_metadata={'input_tokens': 1416, 'output_tokens': 44, 'total_tokens': 1460, 'input_token_details': {'audio': 0, 'cache_read': 0}, 'output_token_details': {'audio': 0, 'reasoning': 0}}\n",
      "content='Transferring back to supervisor' additional_kwargs={} response_metadata={'__is_handoff_back': True} name='document-assistant' id='30f04630-e941-47cd-996a-4d8a8fa517b6' tool_calls=[{'name': 'transfer_back_to_supervisor', 'args': {}, 'id': 'd15dfba2-74fd-4ca3-b684-1c866814a509', 'type': 'tool_call'}]\n",
      "content='Successfully transferred back to supervisor' name='transfer_back_to_supervisor' id='d1b82745-01e1-41ed-aea5-c2990d43fb27' tool_call_id='d15dfba2-74fd-4ca3-b684-1c866814a509'\n",
      "content='It seems there was an issue with saving the movie as a new document. If you have any other requests or need assistance, please let me know!' additional_kwargs={'refusal': None} response_metadata={'token_usage': {'completion_tokens': 31, 'prompt_tokens': 1161, 'total_tokens': 1192, 'completion_tokens_details': {'accepted_prediction_tokens': 0, 'audio_tokens': 0, 'reasoning_tokens': 0, 'rejected_prediction_tokens': 0}, 'prompt_tokens_details': {'audio_tokens': 0, 'cached_tokens': 1024}}, 'model_name': 'gpt-4o-2024-08-06', 'system_fingerprint': 'fp_07871e2ad8', 'id': 'chatcmpl-Beo04XZtIKrEcvquFUqPlDzIIldvq', 'service_tier': 'default', 'finish_reason': 'stop', 'logprobs': None} name='supervisor' id='run--9be68d2e-3bc4-41cb-8354-5d81e8ad81f3-0' usage_metadata={'input_tokens': 1161, 'output_tokens': 31, 'total_tokens': 1192, 'input_token_details': {'audio': 0, 'cache_read': 1024}, 'output_token_details': {'audio': 0, 'reasoning': 0}}\n",
      "content=\"I've updated permissions. Try to save it again.\" additional_kwargs={} response_metadata={} id='a7d70755-ae9a-4302-97dd-d2db7b8cedc2'\n",
      "content='' additional_kwargs={'tool_calls': [{'id': 'call_96j4RM9qtxDriNyZoriCJNzb', 'function': {'arguments': '{}', 'name': 'transfer_to_document-assistant'}, 'type': 'function'}], 'refusal': None} response_metadata={'token_usage': {'completion_tokens': 13, 'prompt_tokens': 1212, 'total_tokens': 1225, 'completion_tokens_details': {'accepted_prediction_tokens': 0, 'audio_tokens': 0, 'reasoning_tokens': 0, 'rejected_prediction_tokens': 0}, 'prompt_tokens_details': {'audio_tokens': 0, 'cached_tokens': 0}}, 'model_name': 'gpt-4o-2024-08-06', 'system_fingerprint': 'fp_07871e2ad8', 'id': 'chatcmpl-Beo0izGTHgeJ0qMCDnA60i36kqeTC', 'service_tier': 'default', 'finish_reason': 'tool_calls', 'logprobs': None} name='supervisor' id='run--e9f4172f-d3ed-4646-9f45-762fcec1b3b7-0' tool_calls=[{'name': 'transfer_to_document-assistant', 'args': {}, 'id': 'call_96j4RM9qtxDriNyZoriCJNzb', 'type': 'tool_call'}] usage_metadata={'input_tokens': 1212, 'output_tokens': 13, 'total_tokens': 1225, 'input_token_details': {'audio': 0, 'cache_read': 0}, 'output_token_details': {'audio': 0, 'reasoning': 0}}\n",
      "content='Successfully transferred to document-assistant' name='transfer_to_document-assistant' id='4e1d87ca-f685-4408-a175-6d55f671b134' tool_call_id='call_96j4RM9qtxDriNyZoriCJNzb'\n",
      "content='The movie **\"The Lord of the Rings: The War of the Rohirrim\"** has been successfully saved as a new document. If you need anything else, feel free to ask!' additional_kwargs={'refusal': None} response_metadata={'token_usage': {'completion_tokens': 40, 'prompt_tokens': 1834, 'total_tokens': 1874, 'completion_tokens_details': {'accepted_prediction_tokens': 0, 'audio_tokens': 0, 'reasoning_tokens': 0, 'rejected_prediction_tokens': 0}, 'prompt_tokens_details': {'audio_tokens': 0, 'cached_tokens': 1152}}, 'model_name': 'gpt-4o-mini-2024-07-18', 'system_fingerprint': 'fp_34a54ae93c', 'id': 'chatcmpl-Beo0qgbcjgDoMTyHcbEpwEtQVxon5', 'service_tier': 'default', 'finish_reason': 'stop', 'logprobs': None} name='document-assistant' id='run--5e070664-b74b-45bb-9ba2-9afb0916ab59-0' usage_metadata={'input_tokens': 1834, 'output_tokens': 40, 'total_tokens': 1874, 'input_token_details': {'audio': 0, 'cache_read': 1152}, 'output_token_details': {'audio': 0, 'reasoning': 0}}\n",
      "content='Transferring back to supervisor' additional_kwargs={} response_metadata={'__is_handoff_back': True} name='document-assistant' id='06e619ae-20e5-4e78-b47c-f762c39463e9' tool_calls=[{'name': 'transfer_back_to_supervisor', 'args': {}, 'id': 'b6598728-25c8-42eb-ab68-6a4238b505bd', 'type': 'tool_call'}]\n",
      "content='Successfully transferred back to supervisor' name='transfer_back_to_supervisor' id='be0a2dc1-854d-4ac0-b12f-b4c04f1f39d9' tool_call_id='b6598728-25c8-42eb-ab68-6a4238b505bd'\n",
      "content='The movie **\"The Lord of the Rings: The War of the Rohirrim\"** has been successfully saved as a new document. If you need anything else, feel free to ask!' additional_kwargs={'refusal': None} response_metadata={'token_usage': {'completion_tokens': 40, 'prompt_tokens': 1339, 'total_tokens': 1379, 'completion_tokens_details': {'accepted_prediction_tokens': 0, 'audio_tokens': 0, 'reasoning_tokens': 0, 'rejected_prediction_tokens': 0}, 'prompt_tokens_details': {'audio_tokens': 0, 'cached_tokens': 1152}}, 'model_name': 'gpt-4o-2024-08-06', 'system_fingerprint': 'fp_07871e2ad8', 'id': 'chatcmpl-Beo0sSvVNWjrXlXTjJ4qxikbGXNEI', 'service_tier': 'default', 'finish_reason': 'stop', 'logprobs': None} name='supervisor' id='run--ff8047f4-53b1-4f55-85d9-0d3abcff95fb-0' usage_metadata={'input_tokens': 1339, 'output_tokens': 40, 'total_tokens': 1379, 'input_token_details': {'audio': 0, 'cache_read': 1152}, 'output_token_details': {'audio': 0, 'reasoning': 0}}\n",
      "content='It is not called Mission: Impossible - Dead Reckoning not Mission: Impossible - Dead Reckoning Part One they changed it. Update the correct document to reflect that' additional_kwargs={} response_metadata={} id='861b3363-19b5-409a-ab27-0004815f5486'\n",
      "content='' additional_kwargs={'tool_calls': [{'id': 'call_5MqJ6c6CSmsMXN4czibhU1JM', 'function': {'arguments': '{}', 'name': 'transfer_to_document-assistant'}, 'type': 'function'}], 'refusal': None} response_metadata={'token_usage': {'completion_tokens': 13, 'prompt_tokens': 1421, 'total_tokens': 1434, 'completion_tokens_details': {'accepted_prediction_tokens': 0, 'audio_tokens': 0, 'reasoning_tokens': 0, 'rejected_prediction_tokens': 0}, 'prompt_tokens_details': {'audio_tokens': 0, 'cached_tokens': 1280}}, 'model_name': 'gpt-4o-2024-08-06', 'system_fingerprint': 'fp_07871e2ad8', 'id': 'chatcmpl-Beo1GcT0j0uNGxYzDxCmegHRKTNbb', 'service_tier': 'default', 'finish_reason': 'tool_calls', 'logprobs': None} name='supervisor' id='run--c54d9599-182c-4f03-878c-62dd60b6f956-0' tool_calls=[{'name': 'transfer_to_document-assistant', 'args': {}, 'id': 'call_5MqJ6c6CSmsMXN4czibhU1JM', 'type': 'tool_call'}] usage_metadata={'input_tokens': 1421, 'output_tokens': 13, 'total_tokens': 1434, 'input_token_details': {'audio': 0, 'cache_read': 1280}, 'output_token_details': {'audio': 0, 'reasoning': 0}}\n",
      "content='Successfully transferred to document-assistant' name='transfer_to_document-assistant' id='11d7aed4-0651-4aa2-b844-0a007a312b59' tool_call_id='call_5MqJ6c6CSmsMXN4czibhU1JM'\n",
      "content='The document has been successfully updated to reflect the correct title: **\"Mission: Impossible - Dead Reckoning.\"** If you need any further assistance or have more updates, feel free to let me know!' additional_kwargs={'refusal': None} response_metadata={'token_usage': {'completion_tokens': 42, 'prompt_tokens': 2110, 'total_tokens': 2152, 'completion_tokens_details': {'accepted_prediction_tokens': 0, 'audio_tokens': 0, 'reasoning_tokens': 0, 'rejected_prediction_tokens': 0}, 'prompt_tokens_details': {'audio_tokens': 0, 'cached_tokens': 2048}}, 'model_name': 'gpt-4o-mini-2024-07-18', 'system_fingerprint': 'fp_34a54ae93c', 'id': 'chatcmpl-Beo1QpfNlXbNlGxTHsqKRxlrRCeVm', 'service_tier': 'default', 'finish_reason': 'stop', 'logprobs': None} name='document-assistant' id='run--ddde8c12-37a5-495b-89c8-910a5e91ad17-0' usage_metadata={'input_tokens': 2110, 'output_tokens': 42, 'total_tokens': 2152, 'input_token_details': {'audio': 0, 'cache_read': 2048}, 'output_token_details': {'audio': 0, 'reasoning': 0}}\n",
      "content='Transferring back to supervisor' additional_kwargs={} response_metadata={'__is_handoff_back': True} name='document-assistant' id='e0b1267e-a3b0-4d86-940c-5eb9f21bdc97' tool_calls=[{'name': 'transfer_back_to_supervisor', 'args': {}, 'id': '5c3e6ab1-a607-4876-bb1f-6b29948f3e2c', 'type': 'tool_call'}]\n",
      "content='Successfully transferred back to supervisor' name='transfer_back_to_supervisor' id='6814574c-8f48-4b7f-b9a6-2802344c0fba' tool_call_id='5c3e6ab1-a607-4876-bb1f-6b29948f3e2c'\n",
      "content='The document has been successfully updated to reflect the correct title: **\"Mission: Impossible - Dead Reckoning.\"** If you need any further assistance or have more updates, feel free to let me know!' additional_kwargs={'refusal': None} response_metadata={'token_usage': {'completion_tokens': 42, 'prompt_tokens': 1550, 'total_tokens': 1592, 'completion_tokens_details': {'accepted_prediction_tokens': 0, 'audio_tokens': 0, 'reasoning_tokens': 0, 'rejected_prediction_tokens': 0}, 'prompt_tokens_details': {'audio_tokens': 0, 'cached_tokens': 1408}}, 'model_name': 'gpt-4o-2024-08-06', 'system_fingerprint': 'fp_07871e2ad8', 'id': 'chatcmpl-Beo1S3BbKYT8u4QVarpX5a0PYw2Ok', 'service_tier': 'default', 'finish_reason': 'stop', 'logprobs': None} name='supervisor' id='run--cc91577f-2dd8-4eb7-8ca6-2f82ef2fe8e9-0' usage_metadata={'input_tokens': 1550, 'output_tokens': 42, 'total_tokens': 1592, 'input_token_details': {'audio': 0, 'cache_read': 1408}, 'output_token_details': {'audio': 0, 'reasoning': 0}}\n"
     ]
    }
   ],
   "source": [
    "for msg in response['messages']:\n",
    "    print(msg)"
   ]
  },
  {
   "cell_type": "code",
   "execution_count": 18,
   "metadata": {},
   "outputs": [],
   "source": [
    "response = supervisor.invoke(\n",
    "    {\"messages\": \n",
    "        [\n",
    "            {\"role\": \"user\", \"content\": \"I want the content for documents to be a summary of the movie itself not raw data like you have\"}\n",
    "        ]\n",
    "    },\n",
    "    config\n",
    ")"
   ]
  },
  {
   "cell_type": "code",
   "execution_count": 19,
   "metadata": {},
   "outputs": [
    {
     "data": {
      "text/plain": [
       "'The documents have been successfully updated with summaries of the movies. If you need any further modifications or additional documents, just let me know!'"
      ]
     },
     "execution_count": 19,
     "metadata": {},
     "output_type": "execute_result"
    }
   ],
   "source": [
    "response['messages'][-1].content"
   ]
  },
  {
   "cell_type": "code",
   "execution_count": 20,
   "metadata": {},
   "outputs": [],
   "source": [
    "response = supervisor.invoke(\n",
    "    {\"messages\": \n",
    "        [\n",
    "            {\"role\": \"user\", \"content\": \"Remove the duplicate that you have in the database\"}\n",
    "        ]\n",
    "    },\n",
    "    config\n",
    ")"
   ]
  },
  {
   "cell_type": "code",
   "execution_count": null,
   "metadata": {},
   "outputs": [],
   "source": []
  }
 ],
 "metadata": {
  "kernelspec": {
   "display_name": "venv",
   "language": "python",
   "name": "python3"
  },
  "language_info": {
   "codemirror_mode": {
    "name": "ipython",
    "version": 3
   },
   "file_extension": ".py",
   "mimetype": "text/x-python",
   "name": "python",
   "nbconvert_exporter": "python",
   "pygments_lexer": "ipython3",
   "version": "3.13.2"
  }
 },
 "nbformat": 4,
 "nbformat_minor": 2
}
