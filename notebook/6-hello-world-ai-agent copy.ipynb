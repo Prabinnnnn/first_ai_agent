{
 "cells": [
  {
   "cell_type": "code",
   "execution_count": 1,
   "id": "9fb3b8de",
   "metadata": {},
   "outputs": [],
   "source": [
    "import setup\n",
    "setup.init()"
   ]
  },
  {
   "cell_type": "code",
   "execution_count": 2,
   "id": "a7ed1b58",
   "metadata": {},
   "outputs": [],
   "source": [
    "from ai.agents import get_document_agent"
   ]
  },
  {
   "cell_type": "code",
   "execution_count": 9,
   "id": "c7b22ac1",
   "metadata": {},
   "outputs": [],
   "source": [
    "agent = get_document_agent()"
   ]
  },
  {
   "cell_type": "code",
   "execution_count": 7,
   "id": "e78b7383",
   "metadata": {},
   "outputs": [
    {
     "name": "stdout",
     "output_type": "stream",
     "text": [
      "<class 'function'>\n"
     ]
    }
   ],
   "source": [
    "print(type(agent))  # 👈 Add this\n"
   ]
  },
  {
   "cell_type": "code",
   "execution_count": 11,
   "id": "00c874e3",
   "metadata": {},
   "outputs": [],
   "source": [
    "import uuid\n",
    "config = {\"configurable\": {\"user_id\": \"2\", \"thread_id\":uuid.uuid4()}}\n",
    "response = agent.invoke(\n",
    "    {\"message\":\n",
    "     (\n",
    "         {\"role\":\"user\", \"content\": \"what are my recent documents\"}\n",
    "     )\n",
    "\n",
    "    },\n",
    "    config\n",
    ")"
   ]
  },
  {
   "cell_type": "code",
   "execution_count": 13,
   "id": "0f464730",
   "metadata": {},
   "outputs": [
    {
     "name": "stdout",
     "output_type": "stream",
     "text": [
      "0 \n",
      "\n",
      "\n",
      "\n",
      "1 [{\"id\": 4, \"title\": \"Title\"}, {\"id\": 3, \"title\": \"Title\"}, {\"id\": 2, \"title\": \"hello world\"}]\n",
      "\n",
      "\n",
      "\n",
      "2 \n",
      "\n",
      "\n",
      "\n",
      "3 {\"id\": 4, \"title\": \"Title\"}\n",
      "\n",
      "\n",
      "\n",
      "4 {\"id\": 3, \"title\": \"Title\"}\n",
      "\n",
      "\n",
      "\n",
      "5 {\"id\": 2, \"title\": \"hello world\"}\n",
      "\n",
      "\n",
      "\n",
      "6 Here are your most recent documents:\n",
      "\n",
      "1. **Title** (ID: 4)\n",
      "2. **Title** (ID: 3)\n",
      "3. **hello world** (ID: 2)\n",
      "\n",
      "All documents are currently active. If you need any further assistance with these documents, feel free to ask!\n",
      "\n",
      "\n",
      "\n"
     ]
    }
   ],
   "source": [
    "for i, msg in enumerate (response['messages']):\n",
    "    print(i, msg.content)\n",
    "    print(\"\\n\\n\")"
   ]
  },
  {
   "cell_type": "code",
   "execution_count": null,
   "id": "20d062d8",
   "metadata": {},
   "outputs": [],
   "source": []
  }
 ],
 "metadata": {
  "kernelspec": {
   "display_name": "venv",
   "language": "python",
   "name": "python3"
  },
  "language_info": {
   "codemirror_mode": {
    "name": "ipython",
    "version": 3
   },
   "file_extension": ".py",
   "mimetype": "text/x-python",
   "name": "python",
   "nbconvert_exporter": "python",
   "pygments_lexer": "ipython3",
   "version": "3.13.0"
  }
 },
 "nbformat": 4,
 "nbformat_minor": 5
}
