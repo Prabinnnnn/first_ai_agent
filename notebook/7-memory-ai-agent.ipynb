{
 "cells": [
  {
   "cell_type": "code",
   "execution_count": 1,
   "id": "9fb3b8de",
   "metadata": {},
   "outputs": [],
   "source": [
    "import setup\n",
    "setup.init()"
   ]
  },
  {
   "cell_type": "code",
   "execution_count": 2,
   "id": "a7ed1b58",
   "metadata": {},
   "outputs": [],
   "source": [
    "from ai.agents import get_document_agent"
   ]
  },
  {
   "cell_type": "code",
   "execution_count": 3,
   "id": "9ff5faf0",
   "metadata": {},
   "outputs": [],
   "source": [
    "from langgraph.checkpoint.memory import InMemorySaver\n",
    "checkpointer = InMemorySaver()"
   ]
  },
  {
   "cell_type": "code",
   "execution_count": 4,
   "id": "c7b22ac1",
   "metadata": {},
   "outputs": [],
   "source": [
    "agent = get_document_agent(model=\"gpt-4o\", checkpointer=checkpointer)"
   ]
  },
  {
   "cell_type": "code",
   "execution_count": 5,
   "id": "00c874e3",
   "metadata": {},
   "outputs": [],
   "source": [
    "import uuid\n",
    "config = {\"configurable\": {\"user_id\": \"2\", \"thread_id\":uuid.uuid4()}}\n",
    "response = agent.invoke(\n",
    "    {\"message\":\n",
    "     [\n",
    "         {\"role\":\"user\", \"content\": \"what are my recent documents\"}\n",
    "     ]\n",
    "\n",
    "    },\n",
    "    config\n",
    ")"
   ]
  },
  {
   "cell_type": "code",
   "execution_count": 6,
   "id": "2d477008",
   "metadata": {},
   "outputs": [
    {
     "data": {
      "text/plain": [
       "'Here are the most recent documents for your account:\\n\\n1. **Document ID: 4**\\n   - Title: Title\\n\\n2. **Document ID: 3**\\n   - Title: Title\\n\\n3. **Document ID: 2**\\n   - Title: hello world\\n\\nIf you need any further assistance with these documents, feel free to ask!'"
      ]
     },
     "execution_count": 6,
     "metadata": {},
     "output_type": "execute_result"
    }
   ],
   "source": [
    "response['messages'][-1].content"
   ]
  },
  {
   "cell_type": "code",
   "execution_count": 8,
   "id": "0f464730",
   "metadata": {},
   "outputs": [
    {
     "data": {
      "text/plain": [
       "'There are 2 documents with the title \"Title\" (Document ID 4 and Document ID 3). This means there is 1 duplicate title among your documents. \\n\\nIf you need further assistance or analysis, feel free to ask!'"
      ]
     },
     "execution_count": 8,
     "metadata": {},
     "output_type": "execute_result"
    }
   ],
   "source": [
    "response = agent.invoke(\n",
    "    {\"messages\":\n",
    "     [\n",
    "         {\"role\": \"user\", \"content\": \"how many duplicates are there?\"}\n",
    "     ]\n",
    "    },\n",
    "    config\n",
    ")\n",
    "response['messages'][-1].content"
   ]
  },
  {
   "cell_type": "code",
   "execution_count": null,
   "id": "7c35c1cc",
   "metadata": {},
   "outputs": [],
   "source": []
  }
 ],
 "metadata": {
  "kernelspec": {
   "display_name": "venv",
   "language": "python",
   "name": "python3"
  },
  "language_info": {
   "codemirror_mode": {
    "name": "ipython",
    "version": 3
   },
   "file_extension": ".py",
   "mimetype": "text/x-python",
   "name": "python",
   "nbconvert_exporter": "python",
   "pygments_lexer": "ipython3",
   "version": "3.13.0"
  }
 },
 "nbformat": 4,
 "nbformat_minor": 5
}
