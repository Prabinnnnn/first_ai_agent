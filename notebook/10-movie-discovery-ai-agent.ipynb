{
 "cells": [
  {
   "cell_type": "code",
   "execution_count": 1,
   "metadata": {},
   "outputs": [],
   "source": [
    "import setup  # notebooks/setup.py\n",
    "setup.init()"
   ]
  },
  {
   "cell_type": "code",
   "execution_count": 2,
   "metadata": {},
   "outputs": [],
   "source": [
    "from ai.agents import get_movie_discovery_agent"
   ]
  },
  {
   "cell_type": "code",
   "execution_count": 3,
   "metadata": {},
   "outputs": [],
   "source": [
    "from langgraph.checkpoint.memory import InMemorySaver \n",
    "\n",
    "checkpointer = InMemorySaver()"
   ]
  },
  {
   "cell_type": "code",
   "execution_count": 4,
   "metadata": {},
   "outputs": [],
   "source": [
    "agent = get_movie_discovery_agent(model=\"gpt-4o\", checkpointer=checkpointer)"
   ]
  },
  {
   "cell_type": "code",
   "execution_count": 5,
   "metadata": {},
   "outputs": [
    {
     "name": "stdout",
     "output_type": "stream",
     "text": [
      "Searching with user 2\n",
      "Searching with user 2\n"
     ]
    }
   ],
   "source": [
    "import uuid \n",
    "config = {\"configurable\": {\"user_id\": \"2\", \"thread_id\": uuid.uuid4()}}\n",
    "\n",
    "response = agent.invoke(\n",
    "    {\"messages\": \n",
    "        [\n",
    "            {\"role\": \"user\", \"content\": \"Tell me about the first lord of the rings movie\"}\n",
    "        ]\n",
    "    },\n",
    "    config\n",
    ")"
   ]
  },
  {
   "cell_type": "code",
   "execution_count": 6,
   "metadata": {},
   "outputs": [
    {
     "data": {
      "text/plain": [
       "ToolMessage(content='{\"adult\": false, \"backdrop_path\": \"/x2RS3uTcsJJ9IfjNPcgDmukoEcQ.jpg\", \"belongs_to_collection\": {\"id\": 119, \"name\": \"The Lord of the Rings Collection\", \"poster_path\": \"/249qw7r9E31vvOSeMQoOrjxMjfm.jpg\", \"backdrop_path\": \"/bccR2CGTWVVSZAG0yqmy3DIvhTX.jpg\"}, \"budget\": 93000000, \"genres\": [{\"id\": 12, \"name\": \"Adventure\"}, {\"id\": 14, \"name\": \"Fantasy\"}, {\"id\": 28, \"name\": \"Action\"}], \"homepage\": \"http://www.lordoftherings.net/\", \"id\": 120, \"imdb_id\": \"tt0120737\", \"origin_country\": [\"US\"], \"original_language\": \"en\", \"original_title\": \"The Lord of the Rings: The Fellowship of the Ring\", \"overview\": \"Young hobbit Frodo Baggins, after inheriting a mysterious ring from his uncle Bilbo, must leave his home in order to keep it from falling into the hands of its evil creator. Along the way, a fellowship is formed to protect the ringbearer and make sure that the ring arrives at its final destination: Mt. Doom, the only place where it can be destroyed.\", \"popularity\": 21.8938, \"poster_path\": \"/6oom5QYQ2yQTMJIbnvbkBL9cHo6.jpg\", \"production_companies\": [{\"id\": 12, \"logo_path\": \"/2ycs64eqV5rqKYHyQK0GVoKGvfX.png\", \"name\": \"New Line Cinema\", \"origin_country\": \"US\"}, {\"id\": 11, \"logo_path\": \"/6FAuASQHybRkZUk08p9PzSs9ezM.png\", \"name\": \"WingNut Films\", \"origin_country\": \"NZ\"}, {\"id\": 5237, \"logo_path\": \"/mlnr7vsBHvLye8oEb5A76C0t8x9.png\", \"name\": \"The Saul Zaentz Company\", \"origin_country\": \"US\"}], \"production_countries\": [{\"iso_3166_1\": \"NZ\", \"name\": \"New Zealand\"}, {\"iso_3166_1\": \"US\", \"name\": \"United States of America\"}], \"release_date\": \"2001-12-18\", \"revenue\": 871368364, \"runtime\": 179, \"spoken_languages\": [{\"english_name\": \"English\", \"iso_639_1\": \"en\", \"name\": \"English\"}], \"status\": \"Released\", \"tagline\": \"One ring to rule them all.\", \"title\": \"The Lord of the Rings: The Fellowship of the Ring\", \"video\": false, \"vote_average\": 8.422, \"vote_count\": 26009}', name='movie_detail', id='22c3650b-d39d-4fb5-9591-f85580e45fbc', tool_call_id='call_qSU4Jd7CijvMH2M3dJizsjly')"
      ]
     },
     "execution_count": 6,
     "metadata": {},
     "output_type": "execute_result"
    }
   ],
   "source": [
    "response['messages'][-2]"
   ]
  },
  {
   "cell_type": "code",
   "execution_count": 7,
   "metadata": {},
   "outputs": [
    {
     "data": {
      "text/plain": [
       "'**The Lord of the Rings: The Fellowship of the Ring** is the first film in the epic fantasy trilogy directed by Peter Jackson. Here\\'s a detailed overview of the movie:\\n\\n- **Release Date:** December 18, 2001\\n- **Genres:** Adventure, Fantasy, Action\\n- **Runtime:** 179 minutes\\n- **Budget:** $93,000,000\\n- **Revenue:** $871,368,364\\n- **Language:** English\\n- **Country of Origin:** United States, New Zealand\\n- **Production Companies:** New Line Cinema, WingNut Films, The Saul Zaentz Company\\n- **Tagline:** \"One ring to rule them all.\"\\n\\n**Plot Summary:**\\nThe story follows young hobbit Frodo Baggins, who inherits a mysterious ring from his uncle Bilbo. This ring is powerful and dangerous, as it was created by the dark lord Sauron to control Middle-earth. To prevent it from falling into the wrong hands, Frodo must leave his home and embark on a perilous journey. Along the way, a fellowship is formed to protect Frodo and ensure the ring reaches its final destination: Mt. Doom, the only place where it can be destroyed.\\n\\n**Popularity and Reception:**\\nThe film has a high vote average of 8.422 based on 26,009 votes, indicating its widespread acclaim and popularity.\\n\\n**Additional Information:**\\n- **IMDB ID:** [tt0120737](https://www.imdb.com/title/tt0120737/)\\n- **Official Website:** [The Lord of the Rings](http://www.lordoftherings.net/)\\n\\n**Visuals:**\\n- **Poster:** ![Poster](https://image.tmdb.org/t/p/w500/6oom5QYQ2yQTMJIbnvbkBL9cHo6.jpg)\\n- **Backdrop:** ![Backdrop](https://image.tmdb.org/t/p/w500/x2RS3uTcsJJ9IfjNPcgDmukoEcQ.jpg)\\n\\nThis film is part of the larger \"The Lord of the Rings Collection,\" which continues with two more films, further exploring the epic journey and battles in Middle-earth.'"
      ]
     },
     "execution_count": 7,
     "metadata": {},
     "output_type": "execute_result"
    }
   ],
   "source": [
    "response['messages'][-1].content"
   ]
  },
  {
   "cell_type": "code",
   "execution_count": null,
   "metadata": {},
   "outputs": [],
   "source": []
  }
 ],
 "metadata": {
  "kernelspec": {
   "display_name": "venv",
   "language": "python",
   "name": "python3"
  },
  "language_info": {
   "codemirror_mode": {
    "name": "ipython",
    "version": 3
   },
   "file_extension": ".py",
   "mimetype": "text/x-python",
   "name": "python",
   "nbconvert_exporter": "python",
   "pygments_lexer": "ipython3",
   "version": "3.13.2"
  }
 },
 "nbformat": 4,
 "nbformat_minor": 2
}
