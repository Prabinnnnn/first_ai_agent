{
 "cells": [
  {
   "cell_type": "code",
   "execution_count": 2,
   "id": "2139cc3e",
   "metadata": {},
   "outputs": [
    {
     "name": "stdout",
     "output_type": "stream",
     "text": [
      ""
     ]
    }
   ],
   "source": [
    "import setup\n",
    "setup.init()"
   ]
  },
  {
   "cell_type": "code",
   "execution_count": 3,
   "id": "1a1a6e46",
   "metadata": {},
   "outputs": [],
   "source": [
    "from ai.llms import get_openai_model"
   ]
  },
  {
   "cell_type": "code",
   "execution_count": 4,
   "id": "2c95b3b9",
   "metadata": {},
   "outputs": [],
   "source": [
    "model = get_openai_model()"
   ]
  },
  {
   "cell_type": "code",
   "execution_count": 6,
   "id": "feb20fd6",
   "metadata": {},
   "outputs": [
    {
     "data": {
      "text/plain": [
       "AIMessage(content=\"I don't have an age like a person does, but I was created by OpenAI and my latest version was released in 2023. How can I assist you today?\", additional_kwargs={'refusal': None}, response_metadata={'token_usage': {'completion_tokens': 35, 'prompt_tokens': 12, 'total_tokens': 47, 'completion_tokens_details': {'accepted_prediction_tokens': 0, 'audio_tokens': 0, 'reasoning_tokens': 0, 'rejected_prediction_tokens': 0}, 'prompt_tokens_details': {'audio_tokens': 0, 'cached_tokens': 0}}, 'model_name': 'gpt-4o-mini-2024-07-18', 'system_fingerprint': 'fp_34a54ae93c', 'id': 'chatcmpl-BpVK21Kw0Hcqnvu1GPRAXCMqBDkWA', 'service_tier': 'default', 'finish_reason': 'stop', 'logprobs': None}, id='run--5a29dd0f-306c-4567-8abe-fb0ed6032550-0', usage_metadata={'input_tokens': 12, 'output_tokens': 35, 'total_tokens': 47, 'input_token_details': {'audio': 0, 'cache_read': 0}, 'output_token_details': {'audio': 0, 'reasoning': 0}})"
      ]
     },
     "execution_count": 6,
     "metadata": {},
     "output_type": "execute_result"
    }
   ],
   "source": [
    "model.invoke(\"how old are you?\")"
   ]
  },
  {
   "cell_type": "code",
   "execution_count": null,
   "id": "f986a869",
   "metadata": {},
   "outputs": [],
   "source": []
  }
 ],
 "metadata": {
  "kernelspec": {
   "display_name": "venv",
   "language": "python",
   "name": "python3"
  },
  "language_info": {
   "codemirror_mode": {
    "name": "ipython",
    "version": 3
   },
   "file_extension": ".py",
   "mimetype": "text/x-python",
   "name": "python",
   "nbconvert_exporter": "python",
   "pygments_lexer": "ipython3",
   "version": "3.13.0"
  }
 },
 "nbformat": 4,
 "nbformat_minor": 5
}
