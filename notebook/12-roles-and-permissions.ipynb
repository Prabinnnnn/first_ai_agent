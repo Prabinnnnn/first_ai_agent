{
 "cells": [
  {
   "cell_type": "code",
   "execution_count": 1,
   "metadata": {},
   "outputs": [],
   "source": [
    "import setup  # notebooks/setup.py\n",
    "setup.init()"
   ]
  },
  {
   "cell_type": "code",
   "execution_count": 2,
   "metadata": {},
   "outputs": [],
   "source": [
    "from mypermit import permit_client\n",
    "\n",
    "permit = permit_client"
   ]
  },
  {
   "cell_type": "code",
   "execution_count": 3,
   "metadata": {},
   "outputs": [
    {
     "data": {
      "text/plain": [
       "PaginatedResultUserRead(data=[UserRead(key='2', id=UUID('091c69a7-172a-4cfd-ae2e-838dbd512def'), organization_id=UUID('c5928800-1737-4973-a296-ec1c24fa0a1a'), project_id=UUID('f2327095-7e49-425e-8726-87b2a85e7ee6'), environment_id=UUID('a3856ddc-91af-43ac-8b22-08200a8855ed'), associated_tenants=[], roles=[], created_at=datetime.datetime(2025, 6, 4, 17, 29, 55, tzinfo=datetime.timezone.utc), updated_at=datetime.datetime(2025, 6, 4, 17, 31, 4, tzinfo=datetime.timezone.utc), email=None, first_name='staff', last_name=None, attributes=None), UserRead(key='3', id=UUID('68ae3c77-0d73-4346-b214-dda04908fcb6'), organization_id=UUID('c5928800-1737-4973-a296-ec1c24fa0a1a'), project_id=UUID('f2327095-7e49-425e-8726-87b2a85e7ee6'), environment_id=UUID('a3856ddc-91af-43ac-8b22-08200a8855ed'), associated_tenants=[], roles=[], created_at=datetime.datetime(2025, 6, 4, 17, 29, 55, tzinfo=datetime.timezone.utc), updated_at=datetime.datetime(2025, 6, 4, 17, 31, 5, tzinfo=datetime.timezone.utc), email=None, first_name='ethan_hunt', last_name=None, attributes=None), UserRead(key='1', id=UUID('f44a4c77-8d9b-488d-b02a-44ecf6bc944a'), organization_id=UUID('c5928800-1737-4973-a296-ec1c24fa0a1a'), project_id=UUID('f2327095-7e49-425e-8726-87b2a85e7ee6'), environment_id=UUID('a3856ddc-91af-43ac-8b22-08200a8855ed'), associated_tenants=[UserInTenant(tenant='default', roles=['viewer'], status=<UserStatus.active: 'active'>, resource_instance_roles=[])], roles=[UserRole(role='viewer', tenant='default')], created_at=datetime.datetime(2025, 6, 4, 17, 29, 54, tzinfo=datetime.timezone.utc), updated_at=datetime.datetime(2025, 6, 4, 17, 31, 4, tzinfo=datetime.timezone.utc), email=None, first_name='cfe', last_name=None, attributes=None)], total_count=3, page_count=3)"
      ]
     },
     "execution_count": 3,
     "metadata": {},
     "output_type": "execute_result"
    }
   ],
   "source": [
    "await permit.api.users.list()"
   ]
  },
  {
   "cell_type": "code",
   "execution_count": 4,
   "metadata": {},
   "outputs": [],
   "source": [
    "from django.contrib.auth import get_user_model\n",
    "\n",
    "User = get_user_model()"
   ]
  },
  {
   "cell_type": "code",
   "execution_count": 5,
   "metadata": {},
   "outputs": [
    {
     "name": "stdout",
     "output_type": "stream",
     "text": [
      "key='1' id=UUID('f44a4c77-8d9b-488d-b02a-44ecf6bc944a') organization_id=UUID('c5928800-1737-4973-a296-ec1c24fa0a1a') project_id=UUID('f2327095-7e49-425e-8726-87b2a85e7ee6') environment_id=UUID('a3856ddc-91af-43ac-8b22-08200a8855ed') associated_tenants=[UserInTenant(tenant='default', roles=['viewer'], status=<UserStatus.active: 'active'>, resource_instance_roles=[])] roles=[UserRole(role='viewer', tenant='default')] created_at=datetime.datetime(2025, 6, 4, 17, 29, 54, tzinfo=datetime.timezone.utc) updated_at=datetime.datetime(2025, 6, 4, 17, 31, 4, tzinfo=datetime.timezone.utc) email=None first_name='cfe' last_name=None attributes=None\n",
      "key='2' id=UUID('091c69a7-172a-4cfd-ae2e-838dbd512def') organization_id=UUID('c5928800-1737-4973-a296-ec1c24fa0a1a') project_id=UUID('f2327095-7e49-425e-8726-87b2a85e7ee6') environment_id=UUID('a3856ddc-91af-43ac-8b22-08200a8855ed') associated_tenants=[] roles=[] created_at=datetime.datetime(2025, 6, 4, 17, 29, 55, tzinfo=datetime.timezone.utc) updated_at=datetime.datetime(2025, 6, 4, 17, 31, 4, tzinfo=datetime.timezone.utc) email=None first_name='staff' last_name=None attributes=None\n",
      "key='3' id=UUID('68ae3c77-0d73-4346-b214-dda04908fcb6') organization_id=UUID('c5928800-1737-4973-a296-ec1c24fa0a1a') project_id=UUID('f2327095-7e49-425e-8726-87b2a85e7ee6') environment_id=UUID('a3856ddc-91af-43ac-8b22-08200a8855ed') associated_tenants=[] roles=[] created_at=datetime.datetime(2025, 6, 4, 17, 29, 55, tzinfo=datetime.timezone.utc) updated_at=datetime.datetime(2025, 6, 4, 17, 31, 5, tzinfo=datetime.timezone.utc) email=None first_name='ethan_hunt' last_name=None attributes=None\n"
     ]
    }
   ],
   "source": [
    "for u in User.objects.all():\n",
    "    user_data = {\n",
    "        \"key\": f\"{u.id}\",\n",
    "        \"first_name\": f\"{u.username}\"\n",
    "    }\n",
    "    response = await permit.api.users.sync(user_data)\n",
    "    print(response)"
   ]
  },
  {
   "cell_type": "code",
   "execution_count": 6,
   "metadata": {},
   "outputs": [
    {
     "data": {
      "text/plain": [
       "True"
      ]
     },
     "execution_count": 6,
     "metadata": {},
     "output_type": "execute_result"
    }
   ],
   "source": [
    "await permit.check(\"1\", \"read\", \"document\")"
   ]
  },
  {
   "cell_type": "code",
   "execution_count": 7,
   "metadata": {},
   "outputs": [],
   "source": [
    "resources = [\n",
    "    {\n",
    "        \"name\": \"Document\",\n",
    "        \"key\": \"document\",\n",
    "        \"actions\": {\n",
    "            \"read\": {},\n",
    "            \"create\": {},\n",
    "            \"update\": {},\n",
    "            \"delete\": {},\n",
    "        }\n",
    "    },\n",
    "    {\n",
    "        \"name\": \"Movie Discovery Resource\",\n",
    "        \"key\": \"movie_disovery\",\n",
    "        \"actions\": {\n",
    "            \"search\": {},\n",
    "            \"detail\": {},\n",
    "        }\n",
    "    }\n",
    "]"
   ]
  },
  {
   "cell_type": "code",
   "execution_count": 8,
   "metadata": {},
   "outputs": [],
   "source": [
    "from permit import PermitApiError\n",
    "\n",
    "async def get_or_create_resource(resource_data:dict):\n",
    "    resource_key = resource_data.get('key')\n",
    "    try:\n",
    "        _resource = await permit.api.resources.get(resource_key)\n",
    "    except PermitApiError as e:\n",
    "        if e.status_code == 404:\n",
    "            _resource = await permit.api.resources.create(resource_data)\n",
    "        else:\n",
    "            raise e\n",
    "    return _resource"
   ]
  },
  {
   "cell_type": "code",
   "execution_count": 9,
   "metadata": {},
   "outputs": [
    {
     "name": "stdout",
     "output_type": "stream",
     "text": [
      "key='document' id=UUID('3f71f9fd-14f4-4702-88f2-6745a0b68003') organization_id=UUID('c5928800-1737-4973-a296-ec1c24fa0a1a') project_id=UUID('f2327095-7e49-425e-8726-87b2a85e7ee6') environment_id=UUID('a3856ddc-91af-43ac-8b22-08200a8855ed') created_at=datetime.datetime(2025, 6, 4, 17, 40, 6, tzinfo=datetime.timezone.utc) updated_at=datetime.datetime(2025, 6, 4, 17, 40, 6, tzinfo=datetime.timezone.utc) name='Document' urn='prn:hungrypy:default:document' description=None actions={'delete': ActionBlockRead(name='delete', description=None, attributes=None, v1compat_path=None, v1compat_name=None, id=UUID('83b57a4d-1661-4923-9122-80828b84b98f'), key='delete'), 'update': ActionBlockRead(name='update', description=None, attributes=None, v1compat_path=None, v1compat_name=None, id=UUID('6db441b0-bda1-46f5-adc7-ca5121d157d9'), key='update'), 'create': ActionBlockRead(name='create', description=None, attributes=None, v1compat_path=None, v1compat_name=None, id=UUID('71112134-a426-4ed0-b2f9-764f5fc9439d'), key='create'), 'read': ActionBlockRead(name='read', description=None, attributes=None, v1compat_path=None, v1compat_name=None, id=UUID('373787ef-f0f4-472c-aad0-06c72fe2feba'), key='read')} type_attributes=None attributes={} roles={} relations={} v1compat_path=None v1compat_type=None v1compat_name=None action_groups={}\n",
      "key='movie_disovery' id=UUID('6a68fb87-13be-4c2d-a016-3dc407a18ac3') organization_id=UUID('c5928800-1737-4973-a296-ec1c24fa0a1a') project_id=UUID('f2327095-7e49-425e-8726-87b2a85e7ee6') environment_id=UUID('a3856ddc-91af-43ac-8b22-08200a8855ed') created_at=datetime.datetime(2025, 6, 4, 17, 40, 8, tzinfo=datetime.timezone.utc) updated_at=datetime.datetime(2025, 6, 4, 17, 40, 8, tzinfo=datetime.timezone.utc) name='Movie Discovery Resource' urn='prn:hungrypy:default:movie_disovery' description=None actions={'detail': ActionBlockRead(name='detail', description=None, attributes=None, v1compat_path=None, v1compat_name=None, id=UUID('68399c91-1bcd-4ba3-9a1b-200dc611939a'), key='detail'), 'search': ActionBlockRead(name='search', description=None, attributes=None, v1compat_path=None, v1compat_name=None, id=UUID('dab994c9-76a9-462b-bb25-92eabfbecb25'), key='search')} type_attributes=None attributes={} roles={} relations={} v1compat_path=None v1compat_type=None v1compat_name=None action_groups={}\n"
     ]
    }
   ],
   "source": [
    "for resource_data in resources:\n",
    "    response = await get_or_create_resource(resource_data)\n",
    "    print(response)"
   ]
  },
  {
   "cell_type": "code",
   "execution_count": 10,
   "metadata": {},
   "outputs": [],
   "source": [
    "# readonly_permissions = [\n",
    "#     \"document:read\",\n",
    "#     \"movie_disovery:search\",\n",
    "#     \"movie_disovery:detail\"\n",
    "# ]"
   ]
  },
  {
   "cell_type": "code",
   "execution_count": 11,
   "metadata": {},
   "outputs": [],
   "source": [
    "roles = [\n",
    "    {\n",
    "        \"name\": \"Manager\",\n",
    "        \"key\": \"manager\",\n",
    "        \"permissions\": [\n",
    "            \"document:read\",\n",
    "            \"document:create\",\n",
    "            \"document:update\",\n",
    "            \"document:delete\",\n",
    "            \"movie_disovery:search\",\n",
    "            \"movie_disovery:detail\"\n",
    "        ]\n",
    "    }, \n",
    "    {\n",
    "        \"name\": \"Viewer\",\n",
    "        \"key\": \"viewer\",\n",
    "        \"permissions\": [\n",
    "            \"document:read\",\n",
    "            \"movie_disovery:search\",\n",
    "            \"movie_disovery:detail\"\n",
    "        ]\n",
    "    }\n",
    "]"
   ]
  },
  {
   "cell_type": "code",
   "execution_count": 12,
   "metadata": {},
   "outputs": [],
   "source": [
    "from permit import PermitApiError\n",
    "\n",
    "async def get_or_create_role(role_data:dict):\n",
    "    _key = role_data.get('key')\n",
    "    try:\n",
    "        _resource = await permit.api.roles.get(_key)\n",
    "    except PermitApiError as e:\n",
    "        if e.status_code == 404:\n",
    "            _resource = await permit.api.roles.create(role_data)\n",
    "        else:\n",
    "            raise e\n",
    "    return _resource"
   ]
  },
  {
   "cell_type": "code",
   "execution_count": 13,
   "metadata": {},
   "outputs": [],
   "source": [
    "# await permit.api.roles.delete(\"viewer\")"
   ]
  },
  {
   "cell_type": "code",
   "execution_count": 14,
   "metadata": {},
   "outputs": [
    {
     "name": "stdout",
     "output_type": "stream",
     "text": [
      "name='Manager' description=None permissions=['movie_disovery:detail', 'document:create', 'movie_disovery:search', 'document:update', 'document:read'] attributes={} extends=[] granted_to=None v1compat_settings=None v1compat_attributes=None key='manager' id=UUID('99f5638e-c457-408b-bb54-c4167b228d17') organization_id=UUID('c5928800-1737-4973-a296-ec1c24fa0a1a') project_id=UUID('f2327095-7e49-425e-8726-87b2a85e7ee6') environment_id=UUID('a3856ddc-91af-43ac-8b22-08200a8855ed') created_at=datetime.datetime(2025, 6, 4, 17, 47, 18, tzinfo=datetime.timezone.utc) updated_at=datetime.datetime(2025, 6, 4, 17, 47, 18, tzinfo=datetime.timezone.utc)\n",
      "name='Viewer' description=None permissions=['document:read', 'movie_disovery:detail', 'movie_disovery:search'] attributes={} extends=[] granted_to=None v1compat_settings=None v1compat_attributes=None key='viewer' id=UUID('e6f8048b-3724-4b78-93ce-91069b723ac6') organization_id=UUID('c5928800-1737-4973-a296-ec1c24fa0a1a') project_id=UUID('f2327095-7e49-425e-8726-87b2a85e7ee6') environment_id=UUID('a3856ddc-91af-43ac-8b22-08200a8855ed') created_at=datetime.datetime(2025, 6, 4, 17, 54, 33, tzinfo=datetime.timezone.utc) updated_at=datetime.datetime(2025, 6, 4, 17, 54, 33, tzinfo=datetime.timezone.utc)\n"
     ]
    }
   ],
   "source": [
    "for role_data in roles:\n",
    "    response = await get_or_create_role(role_data)\n",
    "    print(response)"
   ]
  },
  {
   "cell_type": "code",
   "execution_count": 15,
   "metadata": {},
   "outputs": [],
   "source": [
    "user = User.objects.all().first()"
   ]
  },
  {
   "cell_type": "code",
   "execution_count": 46,
   "metadata": {},
   "outputs": [
    {
     "data": {
      "text/plain": [
       "1"
      ]
     },
     "execution_count": 46,
     "metadata": {},
     "output_type": "execute_result"
    }
   ],
   "source": [
    "user.id"
   ]
  },
  {
   "cell_type": "code",
   "execution_count": 50,
   "metadata": {},
   "outputs": [
    {
     "data": {
      "text/plain": [
       "RoleAssignmentRead(id=UUID('1065f938-eb46-4798-a51f-988d57e106b3'), user='1', role='admin', tenant='default', resource_instance=None, resource_instance_id=None, user_id=UUID('f44a4c77-8d9b-488d-b02a-44ecf6bc944a'), role_id=UUID('70304e6f-7319-4a7e-ba9c-c7ddbdf2ddec'), tenant_id=UUID('f99e0569-2824-4fe5-a820-43e804eb5d47'), organization_id=UUID('c5928800-1737-4973-a296-ec1c24fa0a1a'), project_id=UUID('f2327095-7e49-425e-8726-87b2a85e7ee6'), environment_id=UUID('a3856ddc-91af-43ac-8b22-08200a8855ed'), created_at=datetime.datetime(2025, 6, 4, 18, 19, 35, tzinfo=datetime.timezone.utc))"
      ]
     },
     "execution_count": 50,
     "metadata": {},
     "output_type": "execute_result"
    }
   ],
   "source": [
    "response = await permit.api.users.assign_role({\n",
    "    \"user\": f\"{user.id}\",\n",
    "    \"role\": \"admin\",\n",
    "    \"tenant\": \"default\"\n",
    "})\n",
    "response"
   ]
  },
  {
   "cell_type": "code",
   "execution_count": 51,
   "metadata": {},
   "outputs": [
    {
     "data": {
      "text/plain": [
       "True"
      ]
     },
     "execution_count": 51,
     "metadata": {},
     "output_type": "execute_result"
    }
   ],
   "source": [
    "await permit.check(f\"{user.id}\", \"delete\", \"document\")"
   ]
  },
  {
   "cell_type": "code",
   "execution_count": 52,
   "metadata": {},
   "outputs": [],
   "source": [
    "from langgraph.checkpoint.memory import InMemorySaver \n",
    "from ai.supervisors import get_supervisor\n",
    "import uuid \n",
    "\n",
    "checkpointer = InMemorySaver()\n",
    "supervisor = get_supervisor(model=\"gpt-4o\", checkpointer=checkpointer)"
   ]
  },
  {
   "cell_type": "code",
   "execution_count": 53,
   "metadata": {},
   "outputs": [
    {
     "data": {
      "text/plain": [
       "1"
      ]
     },
     "execution_count": 53,
     "metadata": {},
     "output_type": "execute_result"
    }
   ],
   "source": [
    "doc_id = 24\n",
    "user_id = user.id\n",
    "user_id"
   ]
  },
  {
   "cell_type": "code",
   "execution_count": 54,
   "metadata": {},
   "outputs": [],
   "source": [
    "\n",
    "config = {\"configurable\": {\"user_id\": user_id, \"thread_id\": uuid.uuid4()}}\n",
    "\n",
    "response = supervisor.invoke(\n",
    "    {\"messages\": \n",
    "        [\n",
    "            {\"role\": \"user\", \"content\": \"what are my recent documents?\"}\n",
    "        ]\n",
    "    },\n",
    "    config\n",
    ")"
   ]
  },
  {
   "cell_type": "code",
   "execution_count": 55,
   "metadata": {},
   "outputs": [
    {
     "data": {
      "text/plain": [
       "\"I've provided the list of your recent documents. If you need further assistance with them, feel free to ask!\""
      ]
     },
     "execution_count": 55,
     "metadata": {},
     "output_type": "execute_result"
    }
   ],
   "source": [
    "response['messages'][-1].content"
   ]
  },
  {
   "cell_type": "code",
   "execution_count": 57,
   "metadata": {},
   "outputs": [
    {
     "data": {
      "text/plain": [
       "'A random document with ID 16 has been successfully deleted. If you need any more help, feel free to ask!'"
      ]
     },
     "execution_count": 57,
     "metadata": {},
     "output_type": "execute_result"
    }
   ],
   "source": [
    "response = supervisor.invoke(\n",
    "    {\"messages\": \n",
    "        [\n",
    "            {\"role\": \"user\", \"content\": f\"Delete any random document by id\"}\n",
    "        ]\n",
    "    },\n",
    "    config\n",
    ")\n",
    "response['messages'][-1].content"
   ]
  },
  {
   "cell_type": "code",
   "execution_count": null,
   "metadata": {},
   "outputs": [],
   "source": []
  }
 ],
 "metadata": {
  "kernelspec": {
   "display_name": "venv",
   "language": "python",
   "name": "python3"
  },
  "language_info": {
   "codemirror_mode": {
    "name": "ipython",
    "version": 3
   },
   "file_extension": ".py",
   "mimetype": "text/x-python",
   "name": "python",
   "nbconvert_exporter": "python",
   "pygments_lexer": "ipython3",
   "version": "3.13.2"
  }
 },
 "nbformat": 4,
 "nbformat_minor": 2
}
