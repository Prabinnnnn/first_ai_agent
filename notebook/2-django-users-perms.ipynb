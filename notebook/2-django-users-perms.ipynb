{
 "cells": [
  {
   "cell_type": "code",
   "execution_count": 1,
   "id": "2b4dcfbc",
   "metadata": {},
   "outputs": [],
   "source": [
    "import setup\n",
    "setup.init()"
   ]
  },
  {
   "cell_type": "code",
   "execution_count": 2,
   "id": "10975fa9",
   "metadata": {},
   "outputs": [
    {
     "data": {
      "text/plain": [
       "<QuerySet [<User: admin>, <User: staff>]>"
      ]
     },
     "execution_count": 2,
     "metadata": {},
     "output_type": "execute_result"
    }
   ],
   "source": [
    "from django.contrib.auth import get_user_model\n",
    "User = get_user_model()\n",
    "User.objects.all()"
   ]
  },
  {
   "cell_type": "code",
   "execution_count": 6,
   "id": "44b9254e",
   "metadata": {},
   "outputs": [
    {
     "data": {
      "text/plain": [
       "<User: staff>"
      ]
     },
     "execution_count": 6,
     "metadata": {},
     "output_type": "execute_result"
    }
   ],
   "source": [
    "user_obj = User(\n",
    "    username=\"staff\"\n",
    ")\n",
    "user_obj"
   ]
  },
  {
   "cell_type": "code",
   "execution_count": 14,
   "id": "f8b5e06d",
   "metadata": {},
   "outputs": [
    {
     "data": {
      "text/plain": [
       "<User: staff>"
      ]
     },
     "execution_count": 14,
     "metadata": {},
     "output_type": "execute_result"
    }
   ],
   "source": [
    "user_obj = User.objects.last()\n",
    "user_obj"
   ]
  },
  {
   "cell_type": "code",
   "execution_count": 9,
   "id": "428a93d7",
   "metadata": {},
   "outputs": [],
   "source": [
    "#user_obj.save()"
   ]
  },
  {
   "cell_type": "code",
   "execution_count": 12,
   "id": "44b257e0",
   "metadata": {},
   "outputs": [
    {
     "data": {
      "text/plain": [
       "<Document: <Document: hello world>"
      ]
     },
     "execution_count": 12,
     "metadata": {},
     "output_type": "execute_result"
    }
   ],
   "source": [
    "from documents.models import Document\n",
    "doc_obj = Document(\n",
    "    owner=user_obj,\n",
    "    title=\"hello world\"\n",
    ")\n",
    "doc_obj"
   ]
  },
  {
   "cell_type": "code",
   "execution_count": 10,
   "id": "2317ed61",
   "metadata": {},
   "outputs": [],
   "source": [
    "#doc_obj.save()"
   ]
  },
  {
   "cell_type": "code",
   "execution_count": 15,
   "id": "f12fcddd",
   "metadata": {},
   "outputs": [
    {
     "data": {
      "text/plain": [
       "<Document: <Document: Title>"
      ]
     },
     "execution_count": 15,
     "metadata": {},
     "output_type": "execute_result"
    }
   ],
   "source": [
    "Document.objects.create(owner=user_obj)"
   ]
  },
  {
   "cell_type": "code",
   "execution_count": 17,
   "id": "78c27e95",
   "metadata": {},
   "outputs": [
    {
     "data": {
      "text/plain": [
       "2"
      ]
     },
     "execution_count": 17,
     "metadata": {},
     "output_type": "execute_result"
    }
   ],
   "source": [
    "user_obj.id"
   ]
  },
  {
   "cell_type": "code",
   "execution_count": 18,
   "id": "9495f9ef",
   "metadata": {},
   "outputs": [
    {
     "data": {
      "text/plain": [
       "<Document: <Document: Title>"
      ]
     },
     "execution_count": 18,
     "metadata": {},
     "output_type": "execute_result"
    }
   ],
   "source": [
    "Document.objects.create(owner_id=2)"
   ]
  },
  {
   "cell_type": "code",
   "execution_count": 19,
   "id": "090bf7f0",
   "metadata": {},
   "outputs": [],
   "source": [
    "import setup\n",
    "setup.init()"
   ]
  },
  {
   "cell_type": "code",
   "execution_count": 20,
   "id": "3c283666",
   "metadata": {},
   "outputs": [
    {
     "data": {
      "text/plain": [
       "<QuerySet [<User: admin>, <User: staff>]>"
      ]
     },
     "execution_count": 20,
     "metadata": {},
     "output_type": "execute_result"
    }
   ],
   "source": [
    "from django.contrib.auth import get_user_model\n",
    "User = get_user_model()\n",
    "\n",
    "User.objects.all()"
   ]
  },
  {
   "cell_type": "code",
   "execution_count": 26,
   "id": "e9310c38",
   "metadata": {},
   "outputs": [
    {
     "data": {
      "text/plain": [
       "True"
      ]
     },
     "execution_count": 26,
     "metadata": {},
     "output_type": "execute_result"
    }
   ],
   "source": [
    "#user_obj = User.objects.create(\n",
    "#   username=\"ethan hunt\"\n",
    "#)\n",
    "user_obj = User.objects.get(\n",
    "    username=\"ethan hunt\"\n",
    ")\n",
    "user_obj.is_staff = True\n",
    "user_obj.set_password(\"abc123007\")\n",
    "user_obj.save()\n",
    "user_obj.is_staff"
   ]
  },
  {
   "cell_type": "code",
   "execution_count": null,
   "id": "f6028e9d",
   "metadata": {},
   "outputs": [
    {
     "data": {
      "text/plain": [
       "'pbkdf2_sha256$1000000$6ZaiWFAjlGCjpZyIwCzK20$+ZfmAMaqFMdADF39mnq6cyJ5CAAeZ+93t2cGKJ3OqQQ='"
      ]
     },
     "execution_count": 27,
     "metadata": {},
     "output_type": "execute_result"
    }
   ],
   "source": [
    "#user_obj.password"
   ]
  },
  {
   "cell_type": "code",
   "execution_count": 29,
   "id": "d9b2ae12",
   "metadata": {},
   "outputs": [
    {
     "data": {
      "text/plain": [
       "<User: admin>"
      ]
     },
     "execution_count": 29,
     "metadata": {},
     "output_type": "execute_result"
    }
   ],
   "source": [
    "#superuser = admin user\n",
    "#python manage,py createsuperuser\n",
    "#User.objects.create_superuser()\n",
    "super_u = User.objects.filter(is_superuser=True).first()\n",
    "super_u"
   ]
  },
  {
   "cell_type": "code",
   "execution_count": 30,
   "id": "775bcc63",
   "metadata": {},
   "outputs": [
    {
     "data": {
      "text/plain": [
       "<QuerySet []>"
      ]
     },
     "execution_count": 30,
     "metadata": {},
     "output_type": "execute_result"
    }
   ],
   "source": [
    "super_u.user_permissions.all()"
   ]
  },
  {
   "cell_type": "code",
   "execution_count": 31,
   "id": "2ba24773",
   "metadata": {},
   "outputs": [
    {
     "data": {
      "text/plain": [
       "<User: ethan hunt>"
      ]
     },
     "execution_count": 31,
     "metadata": {},
     "output_type": "execute_result"
    }
   ],
   "source": [
    "staff_u =User.objects.filter(is_superuser=False, is_staff=True).first()\n",
    "staff_u"
   ]
  },
  {
   "cell_type": "code",
   "execution_count": null,
   "id": "c5625d44",
   "metadata": {},
   "outputs": [
    {
     "name": "stdout",
     "output_type": "stream",
     "text": [
      "view_logentry\n",
      "view_group\n",
      "view_permission\n",
      "view_user\n",
      "view_contenttype\n",
      "view_document\n",
      "view_session\n"
     ]
    }
   ],
   "source": [
    "from django.contrib.auth.models import Permission\n",
    "perms_qs = Permission.objects.filter(codename__icontains=\"VIEW\")\n",
    "for obj in perms_qs:\n",
    "    print(obj.codename)\n",
    "    staff_u.user_permissions.remove(obj)\n",
    "    "
   ]
  },
  {
   "cell_type": "code",
   "execution_count": 49,
   "id": "3d413356",
   "metadata": {},
   "outputs": [
    {
     "data": {
      "text/plain": [
       "<QuerySet [<Permission: Documents | document | Can add document>, <Permission: Documents | document | Can change document>, <Permission: Documents | document | Can delete document>, <Permission: Documents | document | Can view document>]>"
      ]
     },
     "execution_count": 49,
     "metadata": {},
     "output_type": "execute_result"
    }
   ],
   "source": [
    "docs_qs = Permission.objects.filter(codename__endswith=\"document\")\n",
    "docs_qs\n",
    "#staff_u.user_permissions.set(perms_qs)"
   ]
  },
  {
   "cell_type": "code",
   "execution_count": null,
   "id": "5e7da93a",
   "metadata": {},
   "outputs": [
    {
     "data": {
      "text/plain": [
       "<QuerySet [<Permission: Documents | document | Can add document>, <Permission: Documents | document | Can change document>, <Permission: Documents | document | Can delete document>, <Permission: Documents | document | Can view document>]>"
      ]
     },
     "execution_count": 50,
     "metadata": {},
     "output_type": "execute_result"
    }
   ],
   "source": [
    "new_perms = docs_qs | perms_qs\n",
    "new_perms\n"
   ]
  },
  {
   "cell_type": "code",
   "execution_count": 51,
   "id": "41983932",
   "metadata": {},
   "outputs": [],
   "source": [
    "staff_u.user_permissions.set(perms_qs)"
   ]
  },
  {
   "cell_type": "code",
   "execution_count": 52,
   "id": "310b8da1",
   "metadata": {},
   "outputs": [],
   "source": [
    "new_perms = new_perms.exclude(codename__icontains=\"delete\")"
   ]
  },
  {
   "cell_type": "code",
   "execution_count": 53,
   "id": "33f4fa6f",
   "metadata": {},
   "outputs": [],
   "source": [
    "staff_u.user_permissions.set(new_perms)"
   ]
  },
  {
   "cell_type": "code",
   "execution_count": null,
   "id": "22ba9596",
   "metadata": {},
   "outputs": [],
   "source": []
  }
 ],
 "metadata": {
  "kernelspec": {
   "display_name": "venv",
   "language": "python",
   "name": "python3"
  },
  "language_info": {
   "codemirror_mode": {
    "name": "ipython",
    "version": 3
   },
   "file_extension": ".py",
   "mimetype": "text/x-python",
   "name": "python",
   "nbconvert_exporter": "python",
   "pygments_lexer": "ipython3",
   "version": "3.13.0"
  }
 },
 "nbformat": 4,
 "nbformat_minor": 5
}
